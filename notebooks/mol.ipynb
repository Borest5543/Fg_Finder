{
 "cells": [
  {
   "cell_type": "markdown",
   "metadata": {},
   "source": [
    "# Pacote de checagem de grupos funcionais "
   ]
  },
  {
   "cell_type": "markdown",
   "metadata": {},
   "source": [
    "Importação das bibliotecas"
   ]
  },
  {
   "cell_type": "code",
   "execution_count": 10,
   "metadata": {},
   "outputs": [],
   "source": [
    "import numpy as np\n",
    "import pandas as pd\n",
    "from rdkit import Chem"
   ]
  },
  {
   "cell_type": "markdown",
   "metadata": {},
   "source": [
    "## Criação da Classe FindFG\n",
    "Find Functional Groups"
   ]
  },
  {
   "cell_type": "code",
   "execution_count": 11,
   "metadata": {},
   "outputs": [],
   "source": [
    "class FindFG:\n",
    "    def __init__(self):\n",
    "        path = r'C:\\Users\\bores\\OneDrive\\repositorios_github\\Python\\Programs\\Pos\\fg_arrumado.pkl'\n",
    "        self.match_list = []\n",
    "        self.match_dict = {}\n",
    "        self.path_SMARTS_functional_groups(path)\n",
    "\n",
    "    def path_SMARTS_functional_groups(self, path):\n",
    "        '''\n",
    "        Abre o dataframe dos Smarts de cada grupo funcional\n",
    "        '''\n",
    "        self.df_fg = pd.read_pickle(path, compression='zip')\n",
    "        \n",
    "    def testMatch(self, smile: str, smart: str):\n",
    "        \"\"\"\n",
    "        testa se tem um match, retorna 1 or 0\n",
    "        \"\"\"\n",
    "        try:\n",
    "            mol = Chem.MolFromSmiles(smile)\n",
    "            patt = Chem.MolFromSmarts(smart, mergeHs=True)\n",
    "\n",
    "            hit_bonds = []\n",
    "            hits = list(mol.GetSubstructMatches(patt))\n",
    "            hit_ats = hits[0]\n",
    "            freq = len(hits)\n",
    "\n",
    "            for bond in patt.GetBonds():\n",
    "                aid1 = hit_ats[bond.GetBeginAtomIdx()]\n",
    "                aid2 = hit_ats[bond.GetEndAtomIdx()]\n",
    "                hit_bonds.append(mol.GetBondBetweenAtoms(aid1,aid2).GetIdx())\n",
    "            return freq\n",
    "        except:\n",
    "            return 0\n",
    "\n",
    "    def findFunctionalGroups(self, smile):\n",
    "        '''\n",
    "        Pesquisa de grupos funcionais para um único smile\n",
    "        '''\n",
    "        df_copy = self.df_fg[['Name']].copy()\n",
    "        df_copy['Frequency'] = self.df_fg['SMARTS'].apply(lambda x: self.testMatch(smile, x))\n",
    "        df_copy.rename(columns={'Name':'Functional Groups'}, inplace=True)\n",
    "        self.match_list = df_copy['Frequency'].values\n",
    "        return df_copy.query('Frequency != 0')\n",
    "    \n",
    "    def functionalGroupASbitvector(self, arg): \n",
    "        '''\n",
    "        retorna quais grupos funcionais estão presentes\n",
    "        '''\n",
    "        ar  = self.match_list\n",
    "        ar[ar > 1] = 1\n",
    "        return ar"
   ]
  },
  {
   "cell_type": "markdown",
   "metadata": {},
   "source": [
    "## Demonstração\n",
    "Gerando um objeto FindFG em uma variável"
   ]
  },
  {
   "cell_type": "code",
   "execution_count": 12,
   "metadata": {},
   "outputs": [],
   "source": [
    "search = FindFG()\n"
   ]
  },
  {
   "cell_type": "markdown",
   "metadata": {},
   "source": [
    "Conferindo se o Data Frame importou de maneira adequada"
   ]
  },
  {
   "cell_type": "code",
   "execution_count": 13,
   "metadata": {},
   "outputs": [
    {
     "data": {
      "text/html": [
       "<div>\n",
       "<style scoped>\n",
       "    .dataframe tbody tr th:only-of-type {\n",
       "        vertical-align: middle;\n",
       "    }\n",
       "\n",
       "    .dataframe tbody tr th {\n",
       "        vertical-align: top;\n",
       "    }\n",
       "\n",
       "    .dataframe thead th {\n",
       "        text-align: right;\n",
       "    }\n",
       "</style>\n",
       "<table border=\"1\" class=\"dataframe\">\n",
       "  <thead>\n",
       "    <tr style=\"text-align: right;\">\n",
       "      <th></th>\n",
       "      <th>Name</th>\n",
       "      <th>SMARTS</th>\n",
       "      <th>FullText</th>\n",
       "    </tr>\n",
       "  </thead>\n",
       "  <tbody>\n",
       "    <tr>\n",
       "      <th>0</th>\n",
       "      <td>Primary_carbon</td>\n",
       "      <td>[CX4H3][#6]</td>\n",
       "      <td></td>\n",
       "    </tr>\n",
       "    <tr>\n",
       "      <th>1</th>\n",
       "      <td>Secondary_carbon</td>\n",
       "      <td>[CX4H2]([#6])[#6]</td>\n",
       "      <td></td>\n",
       "    </tr>\n",
       "    <tr>\n",
       "      <th>2</th>\n",
       "      <td>Tertiary_carbon</td>\n",
       "      <td>[CX4H1]([#6])([#6])[#6]</td>\n",
       "      <td></td>\n",
       "    </tr>\n",
       "    <tr>\n",
       "      <th>3</th>\n",
       "      <td>Quaternary_carbon</td>\n",
       "      <td>[CX4]([#6])([#6])([#6])[#6]</td>\n",
       "      <td></td>\n",
       "    </tr>\n",
       "    <tr>\n",
       "      <th>4</th>\n",
       "      <td>Alkene</td>\n",
       "      <td>[CX3;$([H2]),$([H1][#6]),$(C([#6])[#6])]=[CX3;...</td>\n",
       "      <td>sp2 C may be substituted only by C or H - does...</td>\n",
       "    </tr>\n",
       "    <tr>\n",
       "      <th>...</th>\n",
       "      <td>...</td>\n",
       "      <td>...</td>\n",
       "      <td>...</td>\n",
       "    </tr>\n",
       "    <tr>\n",
       "      <th>260</th>\n",
       "      <td>Bridged_rings</td>\n",
       "      <td>[R;$(*(@*)(@*)@*);!$([D4R;$(*(@*)(@*)(@*)@*)])...</td>\n",
       "      <td>part of two or more rings, not spiro, not anne...</td>\n",
       "    </tr>\n",
       "    <tr>\n",
       "      <th>261</th>\n",
       "      <td>Conjugated_double_bond</td>\n",
       "      <td>*=*[*]=,#,:[*]</td>\n",
       "      <td></td>\n",
       "    </tr>\n",
       "    <tr>\n",
       "      <th>262</th>\n",
       "      <td>Conjugated_tripple_bond</td>\n",
       "      <td>*#*[*]=,#,:[*]</td>\n",
       "      <td></td>\n",
       "    </tr>\n",
       "    <tr>\n",
       "      <th>263</th>\n",
       "      <td>Trifluoromethyl</td>\n",
       "      <td>[FX1][CX4;!$([H0][Cl,Br,I]);!$([F][C]([F])([F]...</td>\n",
       "      <td>C with three F attached, connected to anything...</td>\n",
       "    </tr>\n",
       "    <tr>\n",
       "      <th>264</th>\n",
       "      <td>Dicarbodiazene</td>\n",
       "      <td>[CX3](=[OX1])[NX2]=[NX2][CX3](=[OX1])</td>\n",
       "      <td>Michael-like acceptor, see Mitsunobu reaction</td>\n",
       "    </tr>\n",
       "  </tbody>\n",
       "</table>\n",
       "<p>265 rows × 3 columns</p>\n",
       "</div>"
      ],
      "text/plain": [
       "                        Name  \\\n",
       "0             Primary_carbon   \n",
       "1           Secondary_carbon   \n",
       "2            Tertiary_carbon   \n",
       "3          Quaternary_carbon   \n",
       "4                     Alkene   \n",
       "..                       ...   \n",
       "260            Bridged_rings   \n",
       "261   Conjugated_double_bond   \n",
       "262  Conjugated_tripple_bond   \n",
       "263          Trifluoromethyl   \n",
       "264           Dicarbodiazene   \n",
       "\n",
       "                                                SMARTS  \\\n",
       "0                                          [CX4H3][#6]   \n",
       "1                                    [CX4H2]([#6])[#6]   \n",
       "2                              [CX4H1]([#6])([#6])[#6]   \n",
       "3                          [CX4]([#6])([#6])([#6])[#6]   \n",
       "4    [CX3;$([H2]),$([H1][#6]),$(C([#6])[#6])]=[CX3;...   \n",
       "..                                                 ...   \n",
       "260  [R;$(*(@*)(@*)@*);!$([D4R;$(*(@*)(@*)(@*)@*)])...   \n",
       "261                                     *=*[*]=,#,:[*]   \n",
       "262                                     *#*[*]=,#,:[*]   \n",
       "263  [FX1][CX4;!$([H0][Cl,Br,I]);!$([F][C]([F])([F]...   \n",
       "264              [CX3](=[OX1])[NX2]=[NX2][CX3](=[OX1])   \n",
       "\n",
       "                                              FullText  \n",
       "0                                                       \n",
       "1                                                       \n",
       "2                                                       \n",
       "3                                                       \n",
       "4    sp2 C may be substituted only by C or H - does...  \n",
       "..                                                 ...  \n",
       "260  part of two or more rings, not spiro, not anne...  \n",
       "261                                                     \n",
       "262                                                     \n",
       "263  C with three F attached, connected to anything...  \n",
       "264      Michael-like acceptor, see Mitsunobu reaction  \n",
       "\n",
       "[265 rows x 3 columns]"
      ]
     },
     "execution_count": 13,
     "metadata": {},
     "output_type": "execute_result"
    }
   ],
   "source": [
    "search.df_fg"
   ]
  },
  {
   "cell_type": "markdown",
   "metadata": {},
   "source": [
    "Declaração de alguns SMILES em um dicionário, com o nome farmacêutico como chave, e o SMILE como valor."
   ]
  },
  {
   "cell_type": "code",
   "execution_count": 14,
   "metadata": {},
   "outputs": [],
   "source": [
    "smi = {'caffeine': 'CN1C=NC2=C1C(=O)N(C(=O)N2C)C',\n",
    "       'nimesulide': 'CS(=O)(=O)NC1=C(C=C(C=C1)[N+](=O)[O-])OC2=CC=CC=C2',\n",
    "       'testosterone': 'CC12CCC3C(C1CCC2O)CCC4=CC(=O)CCC34C',\n",
    "       'dipyrone': 'CC1=C(C(=O)N(N1C)C2=CC=CC=C2)N(C)CS(=O)(=O)[O-].[Na+]',\n",
    "       'amoxicillin': 'CC1(C(N2C(S1)C(C2=O)NC(=O)C(C3=CC=C(C=C3)O)N)C(=O)O)C',\n",
    "       'escitalopram': 'CN(C)CCCC1(C2=C(CO1)C=C(C=C2)C#N)C3=CC=C(C=C3)F'} "
   ]
  },
  {
   "cell_type": "code",
   "execution_count": 23,
   "metadata": {},
   "outputs": [
    {
     "data": {
      "text/html": [
       "<div>\n",
       "<style scoped>\n",
       "    .dataframe tbody tr th:only-of-type {\n",
       "        vertical-align: middle;\n",
       "    }\n",
       "\n",
       "    .dataframe tbody tr th {\n",
       "        vertical-align: top;\n",
       "    }\n",
       "\n",
       "    .dataframe thead th {\n",
       "        text-align: right;\n",
       "    }\n",
       "</style>\n",
       "<table border=\"1\" class=\"dataframe\">\n",
       "  <thead>\n",
       "    <tr style=\"text-align: right;\">\n",
       "      <th></th>\n",
       "      <th>Functional Groups</th>\n",
       "      <th>Frequency</th>\n",
       "    </tr>\n",
       "  </thead>\n",
       "  <tbody>\n",
       "    <tr>\n",
       "      <th>18</th>\n",
       "      <td>Diarylether</td>\n",
       "      <td>1</td>\n",
       "    </tr>\n",
       "    <tr>\n",
       "      <th>170</th>\n",
       "      <td>Nitro</td>\n",
       "      <td>1</td>\n",
       "    </tr>\n",
       "    <tr>\n",
       "      <th>193</th>\n",
       "      <td>Sulfonamide</td>\n",
       "      <td>1</td>\n",
       "    </tr>\n",
       "    <tr>\n",
       "      <th>196</th>\n",
       "      <td>Sulfonic_derivative</td>\n",
       "      <td>1</td>\n",
       "    </tr>\n",
       "    <tr>\n",
       "      <th>261</th>\n",
       "      <td>Conjugated_double_bond</td>\n",
       "      <td>2</td>\n",
       "    </tr>\n",
       "  </tbody>\n",
       "</table>\n",
       "</div>"
      ],
      "text/plain": [
       "          Functional Groups  Frequency\n",
       "18              Diarylether          1\n",
       "170                   Nitro          1\n",
       "193             Sulfonamide          1\n",
       "196     Sulfonic_derivative          1\n",
       "261  Conjugated_double_bond          2"
      ]
     },
     "execution_count": 23,
     "metadata": {},
     "output_type": "execute_result"
    }
   ],
   "source": [
    "search.findFunctionalGroups(smi['nimesulide'])"
   ]
  },
  {
   "cell_type": "code",
   "execution_count": 18,
   "metadata": {},
   "outputs": [
    {
     "data": {
      "text/plain": [
       "array([0, 0, 0, 0, 0, 0, 0, 0, 0, 0, 0, 0, 0, 0, 0, 0, 0, 0, 1, 0, 0, 0,\n",
       "       0, 0, 0, 0, 0, 0, 0, 0, 0, 0, 0, 0, 0, 0, 0, 0, 0, 0, 0, 0, 0, 0,\n",
       "       0, 0, 0, 0, 0, 0, 0, 0, 0, 0, 0, 0, 0, 0, 0, 0, 0, 0, 0, 0, 0, 0,\n",
       "       0, 0, 0, 0, 0, 0, 0, 0, 0, 0, 0, 0, 0, 0, 0, 0, 0, 0, 0, 0, 0, 0,\n",
       "       0, 0, 0, 0, 0, 0, 0, 0, 0, 0, 0, 0, 0, 0, 0, 0, 0, 0, 0, 0, 0, 0,\n",
       "       0, 0, 0, 0, 0, 0, 0, 0, 0, 0, 0, 0, 0, 0, 0, 0, 0, 0, 0, 0, 0, 0,\n",
       "       0, 0, 0, 0, 0, 0, 0, 0, 0, 0, 0, 0, 0, 0, 0, 0, 0, 0, 0, 0, 0, 0,\n",
       "       0, 0, 0, 0, 0, 0, 0, 0, 0, 0, 0, 0, 0, 0, 0, 0, 1, 0, 0, 0, 0, 0,\n",
       "       0, 0, 0, 0, 0, 0, 0, 0, 0, 0, 0, 0, 0, 0, 0, 0, 0, 1, 0, 0, 1, 0,\n",
       "       0, 0, 0, 0, 0, 0, 0, 0, 0, 0, 0, 0, 0, 0, 0, 0, 0, 0, 0, 0, 0, 0,\n",
       "       0, 0, 0, 0, 0, 0, 0, 0, 0, 0, 0, 0, 0, 0, 0, 0, 0, 0, 0, 0, 0, 0,\n",
       "       0, 0, 0, 0, 0, 0, 0, 0, 0, 0, 0, 0, 0, 0, 0, 0, 0, 0, 0, 1, 0, 0,\n",
       "       0], dtype=int64)"
      ]
     },
     "execution_count": 18,
     "metadata": {},
     "output_type": "execute_result"
    }
   ],
   "source": [
    "search.functionalGroupASbitvector(smi['nimesulide'])"
   ]
  },
  {
   "cell_type": "code",
   "execution_count": null,
   "metadata": {},
   "outputs": [],
   "source": []
  }
 ],
 "metadata": {
  "kernelspec": {
   "display_name": "Python 3",
   "language": "python",
   "name": "python3"
  },
  "language_info": {
   "codemirror_mode": {
    "name": "ipython",
    "version": 3
   },
   "file_extension": ".py",
   "mimetype": "text/x-python",
   "name": "python",
   "nbconvert_exporter": "python",
   "pygments_lexer": "ipython3",
   "version": "3.8.10"
  }
 },
 "nbformat": 4,
 "nbformat_minor": 2
}
